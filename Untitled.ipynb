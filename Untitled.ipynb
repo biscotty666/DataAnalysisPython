{
 "cells": [
  {
   "cell_type": "code",
   "execution_count": 1,
   "id": "7556713b-5c6d-43f8-8a4c-ac723898ac58",
   "metadata": {},
   "outputs": [],
   "source": [
    "import warnings\n",
    "\n",
    "warnings.filterwarnings(\"ignore\")  # avoid printing out absolute paths\n"
   ]
  },
  {
   "cell_type": "code",
   "execution_count": 3,
   "id": "d84e956a-900d-430f-ae45-0d0569260fca",
   "metadata": {},
   "outputs": [
    {
     "name": "stdout",
     "output_type": "stream",
     "text": [
      "Looking in indexes: https://pypi.org/simple, https://pypi.ngc.nvidia.com\n",
      "Collecting pytorch_lightning\n",
      "  Downloading pytorch_lightning-1.9.1-py3-none-any.whl (825 kB)\n",
      "\u001b[2K     \u001b[38;2;114;156;31m━━━━━━━━━━━━━━━━━━━━━━━━━━━━━━━━━━━━━━━\u001b[0m \u001b[32m825.8/825.8 kB\u001b[0m \u001b[31m6.9 MB/s\u001b[0m eta \u001b[36m0:00:00\u001b[0m[31m5.9 MB/s\u001b[0m eta \u001b[36m0:00:01\u001b[0m\n",
      "\u001b[?25hRequirement already satisfied: packaging>=17.1 in /home/biscotty/anaconda3/envs/pytorch/lib/python3.10/site-packages (from pytorch_lightning) (21.3)\n",
      "Collecting lightning-utilities>=0.6.0.post0\n",
      "  Downloading lightning_utilities-0.6.0.post0-py3-none-any.whl (18 kB)\n",
      "Collecting fsspec[http]>2021.06.0\n",
      "  Downloading fsspec-2023.1.0-py3-none-any.whl (143 kB)\n",
      "\u001b[2K     \u001b[38;2;114;156;31m━━━━━━━━━━━━━━━━━━━━━━━━━━━━━━━━━━━━━━\u001b[0m \u001b[32m143.0/143.0 kB\u001b[0m \u001b[31m36.7 MB/s\u001b[0m eta \u001b[36m0:00:00\u001b[0m\n",
      "\u001b[?25hRequirement already satisfied: numpy>=1.17.2 in /home/biscotty/anaconda3/envs/pytorch/lib/python3.10/site-packages (from pytorch_lightning) (1.23.4)\n",
      "Requirement already satisfied: torch>=1.10.0 in /home/biscotty/anaconda3/envs/pytorch/lib/python3.10/site-packages (from pytorch_lightning) (1.13.1)\n",
      "Requirement already satisfied: torchmetrics>=0.7.0 in /home/biscotty/anaconda3/envs/pytorch/lib/python3.10/site-packages (from pytorch_lightning) (0.11.0)\n",
      "Requirement already satisfied: typing-extensions>=4.0.0 in /home/biscotty/anaconda3/envs/pytorch/lib/python3.10/site-packages (from pytorch_lightning) (4.4.0)\n",
      "Requirement already satisfied: PyYAML>=5.4 in /home/biscotty/.local/lib/python3.10/site-packages (from pytorch_lightning) (5.4.1)\n",
      "Requirement already satisfied: tqdm>=4.57.0 in /home/biscotty/anaconda3/envs/pytorch/lib/python3.10/site-packages (from pytorch_lightning) (4.64.1)\n",
      "Requirement already satisfied: requests in /home/biscotty/.local/lib/python3.10/site-packages (from fsspec[http]>2021.06.0->pytorch_lightning) (2.28.1)\n",
      "Requirement already satisfied: aiohttp!=4.0.0a0,!=4.0.0a1 in /home/biscotty/anaconda3/envs/pytorch/lib/python3.10/site-packages (from fsspec[http]>2021.06.0->pytorch_lightning) (3.8.3)\n",
      "Requirement already satisfied: pyparsing!=3.0.5,>=2.0.2 in /home/biscotty/anaconda3/envs/pytorch/lib/python3.10/site-packages (from packaging>=17.1->pytorch_lightning) (3.0.9)\n",
      "Requirement already satisfied: aiosignal>=1.1.2 in /home/biscotty/anaconda3/envs/pytorch/lib/python3.10/site-packages (from aiohttp!=4.0.0a0,!=4.0.0a1->fsspec[http]>2021.06.0->pytorch_lightning) (1.3.1)\n",
      "Requirement already satisfied: multidict<7.0,>=4.5 in /home/biscotty/anaconda3/envs/pytorch/lib/python3.10/site-packages (from aiohttp!=4.0.0a0,!=4.0.0a1->fsspec[http]>2021.06.0->pytorch_lightning) (6.0.4)\n",
      "Requirement already satisfied: yarl<2.0,>=1.0 in /home/biscotty/anaconda3/envs/pytorch/lib/python3.10/site-packages (from aiohttp!=4.0.0a0,!=4.0.0a1->fsspec[http]>2021.06.0->pytorch_lightning) (1.8.2)\n",
      "Requirement already satisfied: charset-normalizer<3.0,>=2.0 in /home/biscotty/.local/lib/python3.10/site-packages (from aiohttp!=4.0.0a0,!=4.0.0a1->fsspec[http]>2021.06.0->pytorch_lightning) (2.1.1)\n",
      "Requirement already satisfied: attrs>=17.3.0 in /home/biscotty/anaconda3/envs/pytorch/lib/python3.10/site-packages (from aiohttp!=4.0.0a0,!=4.0.0a1->fsspec[http]>2021.06.0->pytorch_lightning) (22.1.0)\n",
      "Requirement already satisfied: async-timeout<5.0,>=4.0.0a3 in /home/biscotty/anaconda3/envs/pytorch/lib/python3.10/site-packages (from aiohttp!=4.0.0a0,!=4.0.0a1->fsspec[http]>2021.06.0->pytorch_lightning) (4.0.2)\n",
      "Requirement already satisfied: frozenlist>=1.1.1 in /home/biscotty/anaconda3/envs/pytorch/lib/python3.10/site-packages (from aiohttp!=4.0.0a0,!=4.0.0a1->fsspec[http]>2021.06.0->pytorch_lightning) (1.3.3)\n",
      "Requirement already satisfied: idna<4,>=2.5 in /home/biscotty/.local/lib/python3.10/site-packages (from requests->fsspec[http]>2021.06.0->pytorch_lightning) (3.4)\n",
      "Requirement already satisfied: certifi>=2017.4.17 in /home/biscotty/.local/lib/python3.10/site-packages (from requests->fsspec[http]>2021.06.0->pytorch_lightning) (2022.9.24)\n",
      "Requirement already satisfied: urllib3<1.27,>=1.21.1 in /home/biscotty/.local/lib/python3.10/site-packages (from requests->fsspec[http]>2021.06.0->pytorch_lightning) (1.26.12)\n",
      "Installing collected packages: fsspec, lightning-utilities, pytorch_lightning\n",
      "Successfully installed fsspec-2023.1.0 lightning-utilities-0.6.0.post0 pytorch_lightning-1.9.1\n",
      "Looking in indexes: https://pypi.org/simple, https://pypi.ngc.nvidia.com\n",
      "Collecting pytorch_forecasting\n",
      "  Downloading pytorch_forecasting-0.10.3-py3-none-any.whl (141 kB)\n",
      "\u001b[2K     \u001b[38;2;114;156;31m━━━━━━━━━━━━━━━━━━━━━━━━━━━━━━━━━━━━━━━\u001b[0m \u001b[32m141.4/141.4 kB\u001b[0m \u001b[31m2.8 MB/s\u001b[0m eta \u001b[36m0:00:00\u001b[0m MB/s\u001b[0m eta \u001b[36m0:00:01\u001b[0m\n",
      "\u001b[?25hRequirement already satisfied: pytorch-lightning<2.0.0,>=1.2.4 in /home/biscotty/anaconda3/envs/pytorch/lib/python3.10/site-packages (from pytorch_forecasting) (1.9.1)\n",
      "Requirement already satisfied: statsmodels in /home/biscotty/anaconda3/envs/pytorch/lib/python3.10/site-packages (from pytorch_forecasting) (0.13.5)\n",
      "Requirement already satisfied: matplotlib in /home/biscotty/anaconda3/envs/pytorch/lib/python3.10/site-packages (from pytorch_forecasting) (3.6.2)\n",
      "Requirement already satisfied: torch<2.0,>=1.7 in /home/biscotty/anaconda3/envs/pytorch/lib/python3.10/site-packages (from pytorch_forecasting) (1.13.1)\n",
      "Collecting optuna<3.0.0,>=2.3.0\n",
      "  Downloading optuna-2.10.1-py3-none-any.whl (308 kB)\n",
      "\u001b[2K     \u001b[38;2;114;156;31m━━━━━━━━━━━━━━━━━━━━━━━━━━━━━━━━━━━━━━\u001b[0m \u001b[32m308.2/308.2 kB\u001b[0m \u001b[31m10.1 MB/s\u001b[0m eta \u001b[36m0:00:00\u001b[0m\n",
      "\u001b[?25hRequirement already satisfied: scipy<2.0,>=1.8 in /home/biscotty/anaconda3/envs/pytorch/lib/python3.10/site-packages (from pytorch_forecasting) (1.9.3)\n",
      "Requirement already satisfied: pandas<2.0.0,>=1.3.0 in /home/biscotty/.local/lib/python3.10/site-packages (from pytorch_forecasting) (1.5.1)\n",
      "Requirement already satisfied: scikit-learn<1.2,>=0.24 in /home/biscotty/.local/lib/python3.10/site-packages (from pytorch_forecasting) (1.0.2)\n",
      "Collecting alembic\n",
      "  Downloading alembic-1.9.3-py3-none-any.whl (210 kB)\n",
      "\u001b[2K     \u001b[38;2;114;156;31m━━━━━━━━━━━━━━━━━━━━━━━━━━━━━━━━━━━━━━\u001b[0m \u001b[32m210.6/210.6 kB\u001b[0m \u001b[31m12.9 MB/s\u001b[0m eta \u001b[36m0:00:00\u001b[0m\n",
      "\u001b[?25hRequirement already satisfied: tqdm in /home/biscotty/anaconda3/envs/pytorch/lib/python3.10/site-packages (from optuna<3.0.0,>=2.3.0->pytorch_forecasting) (4.64.1)\n",
      "Collecting cmaes>=0.8.2\n",
      "  Downloading cmaes-0.9.1-py3-none-any.whl (21 kB)\n",
      "Requirement already satisfied: PyYAML in /home/biscotty/.local/lib/python3.10/site-packages (from optuna<3.0.0,>=2.3.0->pytorch_forecasting) (5.4.1)\n",
      "Requirement already satisfied: numpy in /home/biscotty/anaconda3/envs/pytorch/lib/python3.10/site-packages (from optuna<3.0.0,>=2.3.0->pytorch_forecasting) (1.23.4)\n",
      "Requirement already satisfied: sqlalchemy>=1.1.0 in /home/biscotty/.local/lib/python3.10/site-packages (from optuna<3.0.0,>=2.3.0->pytorch_forecasting) (1.4.39)\n",
      "Collecting colorlog\n",
      "  Downloading colorlog-6.7.0-py2.py3-none-any.whl (11 kB)\n",
      "Collecting cliff\n",
      "  Downloading cliff-4.1.0-py3-none-any.whl (81 kB)\n",
      "\u001b[2K     \u001b[38;2;114;156;31m━━━━━━━━━━━━━━━━━━━━━━━━━━━━━━━━━━━━━━━━\u001b[0m \u001b[32m81.0/81.0 kB\u001b[0m \u001b[31m83.4 MB/s\u001b[0m eta \u001b[36m0:00:00\u001b[0m\n",
      "\u001b[?25hRequirement already satisfied: packaging>=20.0 in /home/biscotty/anaconda3/envs/pytorch/lib/python3.10/site-packages (from optuna<3.0.0,>=2.3.0->pytorch_forecasting) (21.3)\n",
      "Requirement already satisfied: pytz>=2020.1 in /home/biscotty/anaconda3/envs/pytorch/lib/python3.10/site-packages (from pandas<2.0.0,>=1.3.0->pytorch_forecasting) (2022.1)\n",
      "Requirement already satisfied: python-dateutil>=2.8.1 in /home/biscotty/.local/lib/python3.10/site-packages (from pandas<2.0.0,>=1.3.0->pytorch_forecasting) (2.8.2)\n",
      "Requirement already satisfied: torchmetrics>=0.7.0 in /home/biscotty/anaconda3/envs/pytorch/lib/python3.10/site-packages (from pytorch-lightning<2.0.0,>=1.2.4->pytorch_forecasting) (0.11.0)\n",
      "Requirement already satisfied: typing-extensions>=4.0.0 in /home/biscotty/anaconda3/envs/pytorch/lib/python3.10/site-packages (from pytorch-lightning<2.0.0,>=1.2.4->pytorch_forecasting) (4.4.0)\n",
      "Requirement already satisfied: lightning-utilities>=0.6.0.post0 in /home/biscotty/anaconda3/envs/pytorch/lib/python3.10/site-packages (from pytorch-lightning<2.0.0,>=1.2.4->pytorch_forecasting) (0.6.0.post0)\n",
      "Requirement already satisfied: fsspec[http]>2021.06.0 in /home/biscotty/anaconda3/envs/pytorch/lib/python3.10/site-packages (from pytorch-lightning<2.0.0,>=1.2.4->pytorch_forecasting) (2023.1.0)\n",
      "Requirement already satisfied: joblib>=0.11 in /home/biscotty/.local/lib/python3.10/site-packages (from scikit-learn<1.2,>=0.24->pytorch_forecasting) (1.1.0)\n",
      "Requirement already satisfied: threadpoolctl>=2.0.0 in /home/biscotty/.local/lib/python3.10/site-packages (from scikit-learn<1.2,>=0.24->pytorch_forecasting) (3.1.0)\n",
      "Requirement already satisfied: kiwisolver>=1.0.1 in /home/biscotty/anaconda3/envs/pytorch/lib/python3.10/site-packages (from matplotlib->pytorch_forecasting) (1.4.2)\n",
      "Requirement already satisfied: pyparsing>=2.2.1 in /home/biscotty/anaconda3/envs/pytorch/lib/python3.10/site-packages (from matplotlib->pytorch_forecasting) (3.0.9)\n",
      "Requirement already satisfied: fonttools>=4.22.0 in /home/biscotty/anaconda3/envs/pytorch/lib/python3.10/site-packages (from matplotlib->pytorch_forecasting) (4.25.0)\n",
      "Requirement already satisfied: contourpy>=1.0.1 in /home/biscotty/anaconda3/envs/pytorch/lib/python3.10/site-packages (from matplotlib->pytorch_forecasting) (1.0.5)\n",
      "Requirement already satisfied: pillow>=6.2.0 in /home/biscotty/anaconda3/envs/pytorch/lib/python3.10/site-packages (from matplotlib->pytorch_forecasting) (9.2.0)\n",
      "Requirement already satisfied: cycler>=0.10 in /home/biscotty/anaconda3/envs/pytorch/lib/python3.10/site-packages (from matplotlib->pytorch_forecasting) (0.11.0)\n",
      "Requirement already satisfied: patsy>=0.5.2 in /home/biscotty/anaconda3/envs/pytorch/lib/python3.10/site-packages (from statsmodels->pytorch_forecasting) (0.5.3)\n",
      "Requirement already satisfied: aiohttp!=4.0.0a0,!=4.0.0a1 in /home/biscotty/anaconda3/envs/pytorch/lib/python3.10/site-packages (from fsspec[http]>2021.06.0->pytorch-lightning<2.0.0,>=1.2.4->pytorch_forecasting) (3.8.3)\n",
      "Requirement already satisfied: requests in /home/biscotty/.local/lib/python3.10/site-packages (from fsspec[http]>2021.06.0->pytorch-lightning<2.0.0,>=1.2.4->pytorch_forecasting) (2.28.1)\n",
      "Requirement already satisfied: six in /home/biscotty/anaconda3/envs/pytorch/lib/python3.10/site-packages (from patsy>=0.5.2->statsmodels->pytorch_forecasting) (1.16.0)\n",
      "Requirement already satisfied: greenlet!=0.4.17 in /home/biscotty/.local/lib/python3.10/site-packages (from sqlalchemy>=1.1.0->optuna<3.0.0,>=2.3.0->pytorch_forecasting) (1.1.2)\n",
      "Collecting Mako\n",
      "  Downloading Mako-1.2.4-py3-none-any.whl (78 kB)\n",
      "\u001b[2K     \u001b[38;2;114;156;31m━━━━━━━━━━━━━━━━━━━━━━━━━━━━━━━━━━━━━━━\u001b[0m \u001b[32m78.7/78.7 kB\u001b[0m \u001b[31m180.5 MB/s\u001b[0m eta \u001b[36m0:00:00\u001b[0m\n",
      "\u001b[?25hCollecting autopage>=0.4.0\n",
      "  Downloading autopage-0.5.1-py3-none-any.whl (29 kB)\n",
      "Collecting cmd2>=1.0.0\n",
      "  Downloading cmd2-2.4.3-py3-none-any.whl (147 kB)\n",
      "\u001b[2K     \u001b[38;2;114;156;31m━━━━━━━━━━━━━━━━━━━━━━━━━━━━━━━━━━━━━━\u001b[0m \u001b[32m147.2/147.2 kB\u001b[0m \u001b[31m83.3 MB/s\u001b[0m eta \u001b[36m0:00:00\u001b[0m\n",
      "\u001b[?25hCollecting importlib-metadata>=4.4\n",
      "  Downloading importlib_metadata-6.0.0-py3-none-any.whl (21 kB)\n",
      "Collecting stevedore>=2.0.1\n",
      "  Downloading stevedore-5.0.0-py3-none-any.whl (49 kB)\n",
      "\u001b[2K     \u001b[38;2;114;156;31m━━━━━━━━━━━━━━━━━━━━━━━━━━━━━━━━━━━━━━━\u001b[0m \u001b[32m49.6/49.6 kB\u001b[0m \u001b[31m119.2 MB/s\u001b[0m eta \u001b[36m0:00:00\u001b[0m\n",
      "\u001b[?25hCollecting PrettyTable>=0.7.2\n",
      "  Downloading prettytable-3.6.0-py3-none-any.whl (27 kB)\n",
      "Requirement already satisfied: charset-normalizer<3.0,>=2.0 in /home/biscotty/.local/lib/python3.10/site-packages (from aiohttp!=4.0.0a0,!=4.0.0a1->fsspec[http]>2021.06.0->pytorch-lightning<2.0.0,>=1.2.4->pytorch_forecasting) (2.1.1)\n",
      "Requirement already satisfied: yarl<2.0,>=1.0 in /home/biscotty/anaconda3/envs/pytorch/lib/python3.10/site-packages (from aiohttp!=4.0.0a0,!=4.0.0a1->fsspec[http]>2021.06.0->pytorch-lightning<2.0.0,>=1.2.4->pytorch_forecasting) (1.8.2)\n",
      "Requirement already satisfied: multidict<7.0,>=4.5 in /home/biscotty/anaconda3/envs/pytorch/lib/python3.10/site-packages (from aiohttp!=4.0.0a0,!=4.0.0a1->fsspec[http]>2021.06.0->pytorch-lightning<2.0.0,>=1.2.4->pytorch_forecasting) (6.0.4)\n",
      "Requirement already satisfied: aiosignal>=1.1.2 in /home/biscotty/anaconda3/envs/pytorch/lib/python3.10/site-packages (from aiohttp!=4.0.0a0,!=4.0.0a1->fsspec[http]>2021.06.0->pytorch-lightning<2.0.0,>=1.2.4->pytorch_forecasting) (1.3.1)\n",
      "Requirement already satisfied: frozenlist>=1.1.1 in /home/biscotty/anaconda3/envs/pytorch/lib/python3.10/site-packages (from aiohttp!=4.0.0a0,!=4.0.0a1->fsspec[http]>2021.06.0->pytorch-lightning<2.0.0,>=1.2.4->pytorch_forecasting) (1.3.3)\n",
      "Requirement already satisfied: attrs>=17.3.0 in /home/biscotty/anaconda3/envs/pytorch/lib/python3.10/site-packages (from aiohttp!=4.0.0a0,!=4.0.0a1->fsspec[http]>2021.06.0->pytorch-lightning<2.0.0,>=1.2.4->pytorch_forecasting) (22.1.0)\n",
      "Requirement already satisfied: async-timeout<5.0,>=4.0.0a3 in /home/biscotty/anaconda3/envs/pytorch/lib/python3.10/site-packages (from aiohttp!=4.0.0a0,!=4.0.0a1->fsspec[http]>2021.06.0->pytorch-lightning<2.0.0,>=1.2.4->pytorch_forecasting) (4.0.2)\n",
      "Requirement already satisfied: wcwidth>=0.1.7 in /home/biscotty/anaconda3/envs/pytorch/lib/python3.10/site-packages (from cmd2>=1.0.0->cliff->optuna<3.0.0,>=2.3.0->pytorch_forecasting) (0.2.5)\n",
      "Collecting pyperclip>=1.6\n",
      "  Downloading pyperclip-1.8.2.tar.gz (20 kB)\n",
      "  Preparing metadata (setup.py) ... \u001b[?25ldone\n",
      "\u001b[?25hCollecting zipp>=0.5\n",
      "  Downloading zipp-3.13.0-py3-none-any.whl (6.7 kB)\n",
      "Collecting pbr!=2.1.0,>=2.0.0\n",
      "  Downloading pbr-5.11.1-py2.py3-none-any.whl (112 kB)\n",
      "\u001b[2K     \u001b[38;2;114;156;31m━━━━━━━━━━━━━━━━━━━━━━━━━━━━━━━━━━━━━━\u001b[0m \u001b[32m112.7/112.7 kB\u001b[0m \u001b[31m51.0 MB/s\u001b[0m eta \u001b[36m0:00:00\u001b[0m\n",
      "\u001b[?25hRequirement already satisfied: MarkupSafe>=0.9.2 in /home/biscotty/.local/lib/python3.10/site-packages (from Mako->alembic->optuna<3.0.0,>=2.3.0->pytorch_forecasting) (2.1.1)\n",
      "Requirement already satisfied: idna<4,>=2.5 in /home/biscotty/.local/lib/python3.10/site-packages (from requests->fsspec[http]>2021.06.0->pytorch-lightning<2.0.0,>=1.2.4->pytorch_forecasting) (3.4)\n",
      "Requirement already satisfied: certifi>=2017.4.17 in /home/biscotty/.local/lib/python3.10/site-packages (from requests->fsspec[http]>2021.06.0->pytorch-lightning<2.0.0,>=1.2.4->pytorch_forecasting) (2022.9.24)\n",
      "Requirement already satisfied: urllib3<1.27,>=1.21.1 in /home/biscotty/.local/lib/python3.10/site-packages (from requests->fsspec[http]>2021.06.0->pytorch-lightning<2.0.0,>=1.2.4->pytorch_forecasting) (1.26.12)\n",
      "Building wheels for collected packages: pyperclip\n",
      "  Building wheel for pyperclip (setup.py) ... \u001b[?25ldone\n",
      "\u001b[?25h  Created wheel for pyperclip: filename=pyperclip-1.8.2-py3-none-any.whl size=11123 sha256=d629d1c0065a477ce6ff95f604c2dc38f5a0e17b109c13d15b231cf0c209cf10\n",
      "  Stored in directory: /tmp/pip-ephem-wheel-cache-7fyde9or/wheels/04/24/fe/140a94a7f1036003ede94579e6b4227fe96c840c6f4dcbe307\n",
      "Successfully built pyperclip\n",
      "Installing collected packages: pyperclip, zipp, PrettyTable, pbr, Mako, colorlog, cmd2, cmaes, autopage, stevedore, importlib-metadata, alembic, cliff, optuna, pytorch_forecasting\n",
      "Successfully installed Mako-1.2.4 PrettyTable-3.6.0 alembic-1.9.3 autopage-0.5.1 cliff-4.1.0 cmaes-0.9.1 cmd2-2.4.3 colorlog-6.7.0 importlib-metadata-6.0.0 optuna-2.10.1 pbr-5.11.1 pyperclip-1.8.2 pytorch_forecasting-0.10.3 stevedore-5.0.0 zipp-3.13.0\n"
     ]
    }
   ],
   "source": [
    "!pip install pytorch_lightning\n",
    "!pip install pytorch_forecasting"
   ]
  },
  {
   "cell_type": "code",
   "execution_count": 8,
   "id": "8c04c824-454c-45b6-b8c7-2752e411de43",
   "metadata": {},
   "outputs": [
    {
     "name": "stdout",
     "output_type": "stream",
     "text": [
      "Looking in indexes: https://pypi.org/simple, https://pypi.ngc.nvidia.com\n",
      "Requirement already satisfied: torch in /home/biscotty/anaconda3/envs/pytorch/lib/python3.10/site-packages (1.13.1)\n",
      "Requirement already satisfied: typing_extensions in /home/biscotty/anaconda3/envs/pytorch/lib/python3.10/site-packages (from torch) (4.4.0)\n"
     ]
    }
   ],
   "source": [
    "!pip install torch"
   ]
  },
  {
   "cell_type": "code",
   "execution_count": 9,
   "id": "769da36a-7fdd-416a-bb28-6ffe2181d0c1",
   "metadata": {},
   "outputs": [],
   "source": [
    "import copy\n",
    "from pathlib import Path\n",
    "import warnings\n",
    "\n"
   ]
  },
  {
   "cell_type": "code",
   "execution_count": 10,
   "id": "8c744618-6787-4409-a16f-3265be791ecb",
   "metadata": {},
   "outputs": [
    {
     "ename": "ImportError",
     "evalue": "/home/biscotty/anaconda3/envs/pytorch/lib/python3.10/site-packages/torch/lib/libtorch_cuda_cpp.so: undefined symbol: cudaGraphRetainUserObject, version libcudart.so.11.0",
     "output_type": "error",
     "traceback": [
      "\u001b[0;31m---------------------------------------------------------------------------\u001b[0m",
      "\u001b[0;31mImportError\u001b[0m                               Traceback (most recent call last)",
      "Cell \u001b[0;32mIn[10], line 1\u001b[0m\n\u001b[0;32m----> 1\u001b[0m \u001b[38;5;28;01mimport\u001b[39;00m \u001b[38;5;21;01mtorch\u001b[39;00m\n",
      "File \u001b[0;32m~/anaconda3/envs/pytorch/lib/python3.10/site-packages/torch/__init__.py:218\u001b[0m\n\u001b[1;32m    216\u001b[0m     \u001b[38;5;28;01mif\u001b[39;00m USE_GLOBAL_DEPS:\n\u001b[1;32m    217\u001b[0m         _load_global_deps()\n\u001b[0;32m--> 218\u001b[0m     \u001b[38;5;28;01mfrom\u001b[39;00m \u001b[38;5;21;01mtorch\u001b[39;00m\u001b[38;5;21;01m.\u001b[39;00m\u001b[38;5;21;01m_C\u001b[39;00m \u001b[38;5;28;01mimport\u001b[39;00m \u001b[38;5;241m*\u001b[39m  \u001b[38;5;66;03m# noqa: F403\u001b[39;00m\n\u001b[1;32m    220\u001b[0m \u001b[38;5;66;03m# Appease the type checker; ordinarily this binding is inserted by the\u001b[39;00m\n\u001b[1;32m    221\u001b[0m \u001b[38;5;66;03m# torch._C module initialization code in C\u001b[39;00m\n\u001b[1;32m    222\u001b[0m \u001b[38;5;28;01mif\u001b[39;00m TYPE_CHECKING:\n",
      "\u001b[0;31mImportError\u001b[0m: /home/biscotty/anaconda3/envs/pytorch/lib/python3.10/site-packages/torch/lib/libtorch_cuda_cpp.so: undefined symbol: cudaGraphRetainUserObject, version libcudart.so.11.0"
     ]
    }
   ],
   "source": [
    "import torch\n"
   ]
  },
  {
   "cell_type": "code",
   "execution_count": null,
   "id": "a31108bd-f3e8-4f9d-b16a-c52a46f37cf9",
   "metadata": {},
   "outputs": [],
   "source": []
  }
 ],
 "metadata": {
  "kernelspec": {
   "display_name": "Python 3 (ipykernel)",
   "language": "python",
   "name": "python3"
  },
  "language_info": {
   "codemirror_mode": {
    "name": "ipython",
    "version": 3
   },
   "file_extension": ".py",
   "mimetype": "text/x-python",
   "name": "python",
   "nbconvert_exporter": "python",
   "pygments_lexer": "ipython3",
   "version": "3.10.8"
  }
 },
 "nbformat": 4,
 "nbformat_minor": 5
}
